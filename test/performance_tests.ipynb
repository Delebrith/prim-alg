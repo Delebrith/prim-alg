{
 "cells": [
  {
   "cell_type": "code",
   "execution_count": 1,
   "metadata": {},
   "outputs": [],
   "source": [
    "import time\n",
    "import sys\n",
    "import os\n",
    "import numpy as np\n",
    "import networkx as nx\n",
    "import random\n",
    "import time\n",
    "from matplotlib import pyplot as plt\n",
    "\n",
    "sys.path.insert(0, os.path.join(os.getcwd(), \"..\", \"cpp_prim\", \"x64\", \"Release\"))\n",
    "sys.path.insert(0, os.path.join(os.getcwd(), \"..\", \"py_prim\"))\n",
    "import py_prim\n",
    "import cpp_prim"
   ]
  },
  {
   "cell_type": "code",
   "execution_count": 8,
   "metadata": {
    "scrolled": true
   },
   "outputs": [],
   "source": [
    "def generate_complete_graph(nodesNum):\n",
    "    graph = nx.complete_graph(nodesNum)\n",
    "    for (start, end) in graph.edges:\n",
    "        graph.edges[start, end]['weight'] = random.randrange(1, 100)\n",
    "    return graph\n",
    "\n",
    "def generate_random_tree(nodesNum):\n",
    "    graph = nx.random_powerlaw_tree(nodesNum, tries=10000)\n",
    "    for (start, end) in graph.edges:\n",
    "        graph.edges[start, end]['weight'] = random.randrange(1, 100)\n",
    "    return graph\n",
    "\n",
    "def extract_adjacency_matrix(nx_graph):\n",
    "    adjacency_matrix = nx.to_numpy_array(nx_graph, dtype='int32').tolist()\n",
    "    return adjacency_matrix"
   ]
  },
  {
   "cell_type": "code",
   "execution_count": 23,
   "metadata": {},
   "outputs": [],
   "source": [
    "def test_on_complete_graph(prim_impl, nodesRange = 300, step = 10):\n",
    "    elapsed_time = []\n",
    "    nodes_num = []\n",
    "    for nodes in list(range(2, nodesRange, step)):\n",
    "        print(f\"Complete graph with {nodes} nodes.\", end=\"\\r\")\n",
    "        nodes_num.append(nodes)\n",
    "        graph = generate_complete_graph(nodes)\n",
    "        adjacency_matrix = extract_adjacency_matrix(graph)\n",
    "        start_time = time.time()\n",
    "        prim_impl.run_algorithm(adjacency_matrix)\n",
    "        elapsed_time.append(time.time() - start_time)\n",
    "    return elapsed_time, nodes_num\n",
    "\n",
    "def test_on_tree(prim_impl, nodesRange = 300, step = 10):\n",
    "    elapsed_time = []\n",
    "    nodes_num = []\n",
    "    for nodes in list(range(2, nodesRange, step)):\n",
    "        print(f\"Random tree with {nodes} nodes.\", end=\"\\r\")\n",
    "        nodes_num.append(nodes)\n",
    "        graph = generate_random_tree(nodes)\n",
    "        adjacency_matrix = extract_adjacency_matrix(graph)\n",
    "        start_time = time.time()\n",
    "        prim_impl.run_algorithm(adjacency_matrix)\n",
    "        elapsed_time.append(time.time() - start_time)\n",
    "    return elapsed_time, nodes_num"
   ]
  },
  {
   "cell_type": "code",
   "execution_count": 21,
   "metadata": {},
   "outputs": [],
   "source": [
    "def plot_timing(ax, cpp_time, py_time, nodes, title=\"\"):\n",
    "    ax.plot(nodes, cpp_time, label='C++')\n",
    "    ax.plot(nodes, py_time, label='Python')\n",
    "    ax.set_xlabel('Number of nodes in the graph')\n",
    "    ax.set_ylabel('Time')\n",
    "    ax.set_title(title)\n",
    "    ax.legend()"
   ]
  },
  {
   "cell_type": "code",
   "execution_count": 6,
   "metadata": {},
   "outputs": [
    {
     "name": "stdout",
     "output_type": "stream",
     "text": [
      "Complete graph with 292 nodes.\r"
     ]
    }
   ],
   "source": [
    "cpp_complete_time, cpp_complete_nodes = test_on_complete_graph(cpp_prim)"
   ]
  },
  {
   "cell_type": "code",
   "execution_count": 7,
   "metadata": {},
   "outputs": [
    {
     "name": "stdout",
     "output_type": "stream",
     "text": [
      "Complete graph with 292 nodes.\r"
     ]
    }
   ],
   "source": [
    "py_complete_time, py_complete_nodes = test_on_complete_graph(py_prim)"
   ]
  },
  {
   "cell_type": "code",
   "execution_count": 18,
   "metadata": {},
   "outputs": [
    {
     "data": {
      "image/png": "[encoded data removed]",
      "text/plain": [
       "<Figure size 432x288 with 1 Axes>"
      ]
     },
     "metadata": {
      "needs_background": "light"
     },
     "output_type": "display_data"
    }
   ],
   "source": [
    "fig, ax = plt.subplots(1, 1)\n",
    "plot_timing(ax, cpp_complete_time, py_complete_time, cpp_complete_nodes, \"Complete graph\")"
   ]
  },
  {
   "cell_type": "code",
   "execution_count": 24,
   "metadata": {},
   "outputs": [
    {
     "name": "stdout",
     "output_type": "stream",
     "text": [
      "Random tree with 292 nodes.\r"
     ]
    }
   ],
   "source": [
    "cpp_tree_time, cpp_tree_nodes = test_on_tree(cpp_prim)"
   ]
  },
  {
   "cell_type": "code",
   "execution_count": 25,
   "metadata": {},
   "outputs": [
    {
     "name": "stdout",
     "output_type": "stream",
     "text": [
      "Random tree with 292 nodes.\r"
     ]
    }
   ],
   "source": [
    "py_tree_time, py_tree_nodes = test_on_tree(py_prim)"
   ]
  },
  {
   "cell_type": "code",
   "execution_count": 26,
   "metadata": {},
   "outputs": [
    {
     "data": {
      "image/png": "[encoded data removed]",
      "text/plain": [
       "<Figure size 432x288 with 1 Axes>"
      ]
     },
     "metadata": {
      "needs_background": "light"
     },
     "output_type": "display_data"
    }
   ],
   "source": [
    "fig, ax = plt.subplots(1, 1)\n",
    "plot_timing(ax, cpp_tree_time, py_tree_time, cpp_tree_nodes, \"Random tree\")"
   ]
  }
 ],
 "metadata": {
  "kernelspec": {
   "display_name": "Python 3",
   "language": "python",
   "name": "python3"
  },
  "language_info": {
   "codemirror_mode": {
    "name": "ipython",
    "version": 3
   },
   "file_extension": ".py",
   "mimetype": "text/x-python",
   "name": "python",
   "nbconvert_exporter": "python",
   "pygments_lexer": "ipython3",
   "version": "3.8.3"
  }
 },
 "nbformat": 4,
 "nbformat_minor": 4
}
