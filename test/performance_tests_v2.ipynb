{
 "cells": [
  {
   "cell_type": "code",
   "execution_count": 1,
   "metadata": {},
   "outputs": [],
   "source": [
    "import time\n",
    "import sys\n",
    "import os\n",
    "import numpy as np\n",
    "import networkx as nx\n",
    "import random\n",
    "import time\n",
    "from matplotlib import pyplot as plt\n",
    "\n",
    "sys.path.insert(0, os.path.join(os.getcwd(), \"..\", \"cpp_prim\", \"x64\", \"Release\"))\n",
    "sys.path.insert(0, os.path.join(os.getcwd(), \"..\", \"py_prim\"))\n",
    "import py_prim\n",
    "import cpp_prim"
   ]
  },
  {
   "cell_type": "code",
   "execution_count": 33,
   "metadata": {
    "scrolled": true
   },
   "outputs": [],
   "source": [
    "def generate_complete_graph(nodes):\n",
    "    graph = nx.complete_graph(nodes)\n",
    "    for (start, end) in graph.edges:\n",
    "        graph.edges[start, end]['weight'] = random.randrange(1, 100)\n",
    "    return graph\n",
    "\n",
    "def generate_random_tree(nodes):\n",
    "    graph = nx.generators.trees.random_tree(nodes)\n",
    "    for (start, end) in graph.edges:\n",
    "        graph.edges[start, end]['weight'] = random.randrange(1, 100)\n",
    "    return graph\n",
    "\n",
    "def extract_adjacency_matrix(nx_graph):\n",
    "    adjacency_matrix = nx.to_numpy_array(nx_graph, dtype='int32').tolist()\n",
    "    return adjacency_matrix"
   ]
  },
  {
   "cell_type": "code",
   "execution_count": 41,
   "metadata": {},
   "outputs": [],
   "source": [
    "def test_on_complete_graph(prim_impl, nodes_range = 300, step = 10):\n",
    "    elapsed_time = []\n",
    "    nodes_num = []\n",
    "    for nodes in list(range(2, nodes_range, step)):\n",
    "        print(f\"Test on complete graph with {nodes} nodes.\", end=\"\\r\")\n",
    "        nodes_num.append(nodes)\n",
    "        graph = generate_complete_graph(nodes)\n",
    "        adjacency_matrix = extract_adjacency_matrix(graph)\n",
    "        start_time = time.time()\n",
    "        prim_impl.run_algorithm(adjacency_matrix)\n",
    "        elapsed_time.append(time.time() - start_time)\n",
    "    return elapsed_time, nodes_num\n",
    "\n",
    "def test_on_tree(prim_impl, nodes_range = 300, step = 10):\n",
    "    elapsed_time = []\n",
    "    nodes_num = []\n",
    "    for nodes in list(range(2, nodes_range, step)):\n",
    "        print(f\"Test on random tree with {nodes} nodes.\", end=\"\\r\")\n",
    "        nodes_num.append(nodes)\n",
    "        graph = generate_random_tree(nodes)\n",
    "        adjacency_matrix = extract_adjacency_matrix(graph)\n",
    "        start_time = time.time()\n",
    "        prim_impl.run_algorithm(adjacency_matrix)\n",
    "        elapsed_time.append(time.time() - start_time)\n",
    "    return elapsed_time, nodes_num"
   ]
  },
  {
   "cell_type": "code",
   "execution_count": 49,
   "metadata": {},
   "outputs": [],
   "source": [
    "def plot_timing(ax, cpp_time=None, cpp_nodes=None, py_time=None, py_nodes=None, title=\"\"):\n",
    "    if cpp_time:\n",
    "        ax.plot(cpp_nodes, cpp_time, label='C++')\n",
    "    if py_time:\n",
    "        ax.plot(py_nodes, py_time, label='Python')\n",
    "    ax.set_xlabel('Number of nodes')\n",
    "    ax.set_ylabel('Time')\n",
    "    ax.set_title(title)\n",
    "    ax.legend()"
   ]
  },
  {
   "cell_type": "markdown",
   "metadata": {},
   "source": [
    "## Complete graph"
   ]
  },
  {
   "cell_type": "code",
   "execution_count": 58,
   "metadata": {},
   "outputs": [
    {
     "name": "stdout",
     "output_type": "stream",
     "text": [
      "Test on complete graph with 292 nodes.\r"
     ]
    }
   ],
   "source": [
    "cpp_complete_time, cpp_complete_nodes = test_on_complete_graph(cpp_prim, nodes_range=300, step=10)"
   ]
  },
  {
   "cell_type": "code",
   "execution_count": 60,
   "metadata": {},
   "outputs": [
    {
     "name": "stdout",
     "output_type": "stream",
     "text": [
      "Test on complete graph with 1742 nodes.\r"
     ]
    }
   ],
   "source": [
    "py_complete_time, py_complete_nodes = test_on_complete_graph(py_prim, nodes_range=1800, step=60)"
   ]
  },
  {
   "cell_type": "code",
   "execution_count": null,
   "metadata": {},
   "outputs": [],
   "source": [
    "fig, ax = plt.subplots(1, 1)\n",
    "cpp_fig, cpp_ax = plt.subplots(1, 1)\n",
    "py_fig, py_ax = plt.subplots(1, 1)\n",
    "plot_timing(ax, cpp_time=cpp_complete_time, \n",
    "            cpp_nodes=cpp_complete_nodes, \n",
    "            py_time=py_complete_time,\n",
    "            py_nodes=py_complete_nodes,\n",
    "            title=\"Complete grap\")\n",
    "plot_timing(cpp_ax, cpp_time=cpp_tree_time, cpp_nodes=cpp_tree_nodes, title=\"Complete graph\")\n",
    "plot_timing(py_ax, py_time=py_tree_time, py_nodes=py_tree_nodes, title=\"Complete graph\")"
   ]
  },
  {
   "cell_type": "markdown",
   "metadata": {},
   "source": [
    "## Random tree"
   ]
  },
  {
   "cell_type": "code",
   "execution_count": 64,
   "metadata": {},
   "outputs": [
    {
     "name": "stdout",
     "output_type": "stream",
     "text": [
      "Test on random tree with 297 nodes.\r"
     ]
    }
   ],
   "source": [
    "cpp_tree_time, cpp_tree_nodes = test_on_tree(cpp_prim, nodes_range=300, step=5)"
   ]
  },
  {
   "cell_type": "code",
   "execution_count": null,
   "metadata": {},
   "outputs": [
    {
     "name": "stdout",
     "output_type": "stream",
     "text": [
      "Test on random tree with 6502 nodes.\r"
     ]
    }
   ],
   "source": [
    "py_tree_time, py_tree_nodes = test_on_tree(py_prim, nodes_range=15000, step=250)"
   ]
  },
  {
   "cell_type": "code",
   "execution_count": null,
   "metadata": {},
   "outputs": [],
   "source": [
    "fig, ax = plt.subplots(1, 1)\n",
    "cpp_fig, cpp_ax = plt.subplots(1, 1)\n",
    "py_fig, py_ax = plt.subplots(1, 1)\n",
    "plot_timing(ax, cpp_time=cpp_tree_time, \n",
    "            cpp_nodes=cpp_tree_nodes, \n",
    "            py_time=py_tree_time,\n",
    "            py_nodes=py_tree_nodes,\n",
    "            title=\"Random tree\")\n",
    "plot_timing(cpp_ax, cpp_time=cpp_tree_time, cpp_nodes=cpp_tree_nodes, title=\"Random tree\")\n",
    "plot_timing(py_ax, py_time=py_tree_time, py_nodes=py_tree_nodes, title=\"Random tree\")"
   ]
  }
 ],
 "metadata": {
  "kernelspec": {
   "display_name": "Python 3",
   "language": "python",
   "name": "python3"
  },
  "language_info": {
   "codemirror_mode": {
    "name": "ipython",
    "version": 3
   },
   "file_extension": ".py",
   "mimetype": "text/x-python",
   "name": "python",
   "nbconvert_exporter": "python",
   "pygments_lexer": "ipython3",
   "version": "3.8.3"
  }
 },
 "nbformat": 4,
 "nbformat_minor": 4
}
